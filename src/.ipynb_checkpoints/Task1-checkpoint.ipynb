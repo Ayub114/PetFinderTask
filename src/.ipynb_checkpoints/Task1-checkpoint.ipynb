{
 "cells": [
  {
   "cell_type": "markdown",
   "id": "c275e504-c132-4098-8dee-14b38003fe5b",
   "metadata": {},
   "source": [
    "# Task 1 - Train XGBoost model"
   ]
  },
  {
   "cell_type": "code",
   "execution_count": 1,
   "id": "1b2ef691-8bd6-42c6-99b9-8b3e9fd91149",
   "metadata": {},
   "outputs": [],
   "source": [
    "import pandas as pd\n",
    "import sys\n",
    "\n",
    "# Support functions\n",
    "sys.path.insert(0, \"./utils/\")\n",
    "import support\n",
    "\n",
    "import warnings\n",
    "warnings.simplefilter(\"ignore\")\n",
    "\n",
    "# Configuration\n",
    "import yaml\n",
    "\n",
    "# Data visualization\n",
    "import matplotlib.pyplot as plt\n",
    "import seaborn as sns\n",
    "\n",
    "# Machine Learning\n",
    "from sklearn.dummy import DummyClassifier\n",
    "from sklearn.model_selection import train_test_split\n",
    "from sklearn.metrics import f1_score, accuracy_score, recall_score, confusion_matrix, ConfusionMatrixDisplay, roc_curve, roc_auc_score\n",
    "import xgboost as xgb\n",
    "from xgboost import XGBClassifier, plot_importance"
   ]
  },
  {
   "cell_type": "code",
   "execution_count": 2,
   "id": "a9fa5cbe-a2b2-40ed-ad2c-0a4a46734cce",
   "metadata": {},
   "outputs": [],
   "source": [
    "# Read configuration\n",
    "YAML_PATH = '../conf/'\n",
    "yaml_file = support.yaml_loader(YAML_PATH + 'yaml_file.yml')"
   ]
  },
  {
   "cell_type": "markdown",
   "id": "e9e1d577-8df4-4f14-895c-97bf86890cb0",
   "metadata": {},
   "source": [
    "## Load data"
   ]
  },
  {
   "cell_type": "code",
   "execution_count": 3,
   "id": "3c1d50eb-665f-42b5-91c3-5dbce693f1b0",
   "metadata": {},
   "outputs": [],
   "source": [
    "pets_df = pd.read_csv('gs://cloud-samples-data/ai-platform-unified/datasets/tabular/petfinder-tabular-classification.csv')"
   ]
  },
  {
   "cell_type": "markdown",
   "id": "dd7c5d26-596d-4013-8882-93c6e8590528",
   "metadata": {},
   "source": [
    "## EDA (Exploratory Data Analysis)\n",
    "\n",
    "* The dataset has 11.5k rows by 14 features (columns)\n",
    "* The dataset has no missing values\n",
    "* \"Adopted\" feature is what we are trying to predict\n",
    "  * Its value is either \"Yes\" or \"No\"\n",
    "  * Yes represents 73.3% of responses\n",
    "  * No represents 26.7% of responses"
   ]
  },
  {
   "cell_type": "code",
   "execution_count": 4,
   "id": "3d73ef61-eb31-4fd3-a32b-b95d502f99ee",
   "metadata": {},
   "outputs": [
    {
     "name": "stdout",
     "output_type": "stream",
     "text": [
      "Data dimensions: (11537, 14)\n",
      "Adopted values   Yes: 73.3%   No: 26.7%\n"
     ]
    },
    {
     "data": {
      "text/html": [
       "<div>\n",
       "<style scoped>\n",
       "    .dataframe tbody tr th:only-of-type {\n",
       "        vertical-align: middle;\n",
       "    }\n",
       "\n",
       "    .dataframe tbody tr th {\n",
       "        vertical-align: top;\n",
       "    }\n",
       "\n",
       "    .dataframe thead th {\n",
       "        text-align: right;\n",
       "    }\n",
       "</style>\n",
       "<table border=\"1\" class=\"dataframe\">\n",
       "  <thead>\n",
       "    <tr style=\"text-align: right;\">\n",
       "      <th></th>\n",
       "      <th>Type</th>\n",
       "      <th>Age</th>\n",
       "      <th>Breed1</th>\n",
       "      <th>Gender</th>\n",
       "      <th>Color1</th>\n",
       "      <th>Color2</th>\n",
       "      <th>MaturitySize</th>\n",
       "      <th>FurLength</th>\n",
       "      <th>Vaccinated</th>\n",
       "      <th>Sterilized</th>\n",
       "      <th>Health</th>\n",
       "      <th>Fee</th>\n",
       "      <th>PhotoAmt</th>\n",
       "      <th>Adopted</th>\n",
       "    </tr>\n",
       "  </thead>\n",
       "  <tbody>\n",
       "    <tr>\n",
       "      <th>0</th>\n",
       "      <td>Cat</td>\n",
       "      <td>3</td>\n",
       "      <td>Tabby</td>\n",
       "      <td>Male</td>\n",
       "      <td>Black</td>\n",
       "      <td>White</td>\n",
       "      <td>Small</td>\n",
       "      <td>Short</td>\n",
       "      <td>No</td>\n",
       "      <td>No</td>\n",
       "      <td>Healthy</td>\n",
       "      <td>100</td>\n",
       "      <td>1</td>\n",
       "      <td>Yes</td>\n",
       "    </tr>\n",
       "    <tr>\n",
       "      <th>1</th>\n",
       "      <td>Cat</td>\n",
       "      <td>1</td>\n",
       "      <td>Domestic Medium Hair</td>\n",
       "      <td>Male</td>\n",
       "      <td>Black</td>\n",
       "      <td>Brown</td>\n",
       "      <td>Medium</td>\n",
       "      <td>Medium</td>\n",
       "      <td>Not Sure</td>\n",
       "      <td>Not Sure</td>\n",
       "      <td>Healthy</td>\n",
       "      <td>0</td>\n",
       "      <td>2</td>\n",
       "      <td>Yes</td>\n",
       "    </tr>\n",
       "    <tr>\n",
       "      <th>2</th>\n",
       "      <td>Dog</td>\n",
       "      <td>1</td>\n",
       "      <td>Mixed Breed</td>\n",
       "      <td>Male</td>\n",
       "      <td>Brown</td>\n",
       "      <td>White</td>\n",
       "      <td>Medium</td>\n",
       "      <td>Medium</td>\n",
       "      <td>Yes</td>\n",
       "      <td>No</td>\n",
       "      <td>Healthy</td>\n",
       "      <td>0</td>\n",
       "      <td>7</td>\n",
       "      <td>Yes</td>\n",
       "    </tr>\n",
       "    <tr>\n",
       "      <th>3</th>\n",
       "      <td>Dog</td>\n",
       "      <td>4</td>\n",
       "      <td>Mixed Breed</td>\n",
       "      <td>Female</td>\n",
       "      <td>Black</td>\n",
       "      <td>Brown</td>\n",
       "      <td>Medium</td>\n",
       "      <td>Short</td>\n",
       "      <td>Yes</td>\n",
       "      <td>No</td>\n",
       "      <td>Healthy</td>\n",
       "      <td>150</td>\n",
       "      <td>8</td>\n",
       "      <td>Yes</td>\n",
       "    </tr>\n",
       "    <tr>\n",
       "      <th>4</th>\n",
       "      <td>Dog</td>\n",
       "      <td>1</td>\n",
       "      <td>Mixed Breed</td>\n",
       "      <td>Male</td>\n",
       "      <td>Black</td>\n",
       "      <td>No Color</td>\n",
       "      <td>Medium</td>\n",
       "      <td>Short</td>\n",
       "      <td>No</td>\n",
       "      <td>No</td>\n",
       "      <td>Healthy</td>\n",
       "      <td>0</td>\n",
       "      <td>3</td>\n",
       "      <td>Yes</td>\n",
       "    </tr>\n",
       "  </tbody>\n",
       "</table>\n",
       "</div>"
      ],
      "text/plain": [
       "  Type  Age                Breed1  Gender Color1    Color2 MaturitySize  \\\n",
       "0  Cat    3                 Tabby    Male  Black     White        Small   \n",
       "1  Cat    1  Domestic Medium Hair    Male  Black     Brown       Medium   \n",
       "2  Dog    1           Mixed Breed    Male  Brown     White       Medium   \n",
       "3  Dog    4           Mixed Breed  Female  Black     Brown       Medium   \n",
       "4  Dog    1           Mixed Breed    Male  Black  No Color       Medium   \n",
       "\n",
       "  FurLength Vaccinated Sterilized   Health  Fee  PhotoAmt Adopted  \n",
       "0     Short         No         No  Healthy  100         1     Yes  \n",
       "1    Medium   Not Sure   Not Sure  Healthy    0         2     Yes  \n",
       "2    Medium        Yes         No  Healthy    0         7     Yes  \n",
       "3     Short        Yes         No  Healthy  150         8     Yes  \n",
       "4     Short         No         No  Healthy    0         3     Yes  "
      ]
     },
     "execution_count": 4,
     "metadata": {},
     "output_type": "execute_result"
    }
   ],
   "source": [
    "mask_yes = pets_df['Adopted'] == \"Yes\"\n",
    "mask_no = pets_df['Adopted'] == \"No\"\n",
    "total_rows = pets_df.shape[0]\n",
    "percent_yes = round(100 * mask_yes.sum() / total_rows, 1)\n",
    "percent_no = round(100 * mask_no.sum() / total_rows, 1)\n",
    "\n",
    "print(\"Data dimensions: {}\".format(pets_df.shape))\n",
    "print(\"Adopted values   Yes: {}%   No: {}%\".format(percent_yes, percent_no))\n",
    "pets_df.head()"
   ]
  },
  {
   "cell_type": "markdown",
   "id": "0dc3618b-b7d5-470e-a395-f91be46559c6",
   "metadata": {},
   "source": [
    "## Feature columns\n",
    "\n",
    "* Dataset has 14 features\n",
    "  * 3 numerical ('Age', 'Fee', 'PhotoAmt')\n",
    "  * 11 categorical ('Adopted', 'Breed1', 'Color1', 'Color2', 'FurLength', 'Gender', 'Health', 'MaturitySize', 'Sterilized', 'Type', 'Vaccinated')\n",
    "  \n",
    "| Feature  | Type  | Comments  |\n",
    "|---|---|---|\n",
    "| Age  | Numerical  | Range is from 0 to 255 and most likely age in days (255 days is equivalent to 8 months)|\n",
    "| Fee  | Numerical  | Range is 0 to 2000  |\n",
    "| PhotoAmt  | Numerical  | Range is 0 to 30  |\n",
    "| Adopted  | Categorical  | Cardinality is 2 (Yes or No). This is our target feature i.e. what we are trying to predict  |\n",
    "| Breed1  | Categorical  | Cardinality of 166  |\n",
    "| Color1  | Categorical  | Cardinality of 7  |\n",
    "| Color2  | Categorical  | Cardinality of 7  |\n",
    "| Furlength  | Categorical  | Cardinality of 3  |\n",
    "| Gender  | Categorical  | Cardinality of 2  |\n",
    "| Health  | Categorical  | Cardinality of 3  |\n",
    "| MaturitySize  | Categorical  | Cardinality of 3  |\n",
    "| Sterilized  | Categorical  | Cardinality of 3  |\n",
    "| Type  | Categorical  | Cardinality of 2  |\n",
    "| Vaccinated  | Categorical  | Cardinality of 3  |"
   ]
  },
  {
   "cell_type": "code",
   "execution_count": 5,
   "id": "713eb226-a2e2-4400-b14f-bd6ae2beed39",
   "metadata": {},
   "outputs": [],
   "source": [
    "all_features = pets_df.columns.tolist()\n",
    "numerical_features = ['Age', 'Fee', 'PhotoAmt']\n",
    "categorical_features = sorted(support.list_diff(all_features, numerical_features))"
   ]
  },
  {
   "cell_type": "code",
   "execution_count": 6,
   "id": "dfb433f6-355d-4c20-b1fe-836365573fbd",
   "metadata": {},
   "outputs": [
    {
     "name": "stdout",
     "output_type": "stream",
     "text": [
      "Numerical features: ['Age', 'Fee', 'PhotoAmt']\n",
      "Categorical features: ['Adopted', 'Breed1', 'Color1', 'Color2', 'FurLength', 'Gender', 'Health', 'MaturitySize', 'Sterilized', 'Type', 'Vaccinated']\n"
     ]
    }
   ],
   "source": [
    "print(\"Numerical features: {}\".format(numerical_features))\n",
    "print(\"Categorical features: {}\".format(categorical_features))"
   ]
  },
  {
   "cell_type": "code",
   "execution_count": 7,
   "id": "736508fa-f8d9-492d-85c4-8f80348bff12",
   "metadata": {},
   "outputs": [
    {
     "data": {
      "text/html": [
       "<div>\n",
       "<style scoped>\n",
       "    .dataframe tbody tr th:only-of-type {\n",
       "        vertical-align: middle;\n",
       "    }\n",
       "\n",
       "    .dataframe tbody tr th {\n",
       "        vertical-align: top;\n",
       "    }\n",
       "\n",
       "    .dataframe thead th {\n",
       "        text-align: right;\n",
       "    }\n",
       "</style>\n",
       "<table border=\"1\" class=\"dataframe\">\n",
       "  <thead>\n",
       "    <tr style=\"text-align: right;\">\n",
       "      <th></th>\n",
       "      <th>Age</th>\n",
       "      <th>Fee</th>\n",
       "      <th>PhotoAmt</th>\n",
       "    </tr>\n",
       "  </thead>\n",
       "  <tbody>\n",
       "    <tr>\n",
       "      <th>count</th>\n",
       "      <td>11537.000000</td>\n",
       "      <td>11537.000000</td>\n",
       "      <td>11537.000000</td>\n",
       "    </tr>\n",
       "    <tr>\n",
       "      <th>mean</th>\n",
       "      <td>11.743434</td>\n",
       "      <td>23.957268</td>\n",
       "      <td>3.610211</td>\n",
       "    </tr>\n",
       "    <tr>\n",
       "      <th>std</th>\n",
       "      <td>19.324221</td>\n",
       "      <td>80.024226</td>\n",
       "      <td>3.145872</td>\n",
       "    </tr>\n",
       "    <tr>\n",
       "      <th>min</th>\n",
       "      <td>0.000000</td>\n",
       "      <td>0.000000</td>\n",
       "      <td>0.000000</td>\n",
       "    </tr>\n",
       "    <tr>\n",
       "      <th>25%</th>\n",
       "      <td>2.000000</td>\n",
       "      <td>0.000000</td>\n",
       "      <td>2.000000</td>\n",
       "    </tr>\n",
       "    <tr>\n",
       "      <th>50%</th>\n",
       "      <td>4.000000</td>\n",
       "      <td>0.000000</td>\n",
       "      <td>3.000000</td>\n",
       "    </tr>\n",
       "    <tr>\n",
       "      <th>75%</th>\n",
       "      <td>12.000000</td>\n",
       "      <td>0.000000</td>\n",
       "      <td>5.000000</td>\n",
       "    </tr>\n",
       "    <tr>\n",
       "      <th>max</th>\n",
       "      <td>255.000000</td>\n",
       "      <td>2000.000000</td>\n",
       "      <td>30.000000</td>\n",
       "    </tr>\n",
       "  </tbody>\n",
       "</table>\n",
       "</div>"
      ],
      "text/plain": [
       "                Age           Fee      PhotoAmt\n",
       "count  11537.000000  11537.000000  11537.000000\n",
       "mean      11.743434     23.957268      3.610211\n",
       "std       19.324221     80.024226      3.145872\n",
       "min        0.000000      0.000000      0.000000\n",
       "25%        2.000000      0.000000      2.000000\n",
       "50%        4.000000      0.000000      3.000000\n",
       "75%       12.000000      0.000000      5.000000\n",
       "max      255.000000   2000.000000     30.000000"
      ]
     },
     "execution_count": 7,
     "metadata": {},
     "output_type": "execute_result"
    }
   ],
   "source": [
    "# Summary statistics for the 3 numerical features\n",
    "pets_df.describe()"
   ]
  },
  {
   "cell_type": "code",
   "execution_count": 8,
   "id": "4f2235ef-9f81-4106-ad36-4dbf191e29e0",
   "metadata": {},
   "outputs": [
    {
     "data": {
      "image/png": "[encoded data removed]",
      "text/plain": [
       "<Figure size 432x288 with 1 Axes>"
      ]
     },
     "metadata": {
      "needs_background": "light"
     },
     "output_type": "display_data"
    }
   ],
   "source": [
    "# Distribution of Age numerical feature\n",
    "sns.histplot(data=pets_df, x='Age', bins=30).set(title='Distribution of pet age (months)')\n",
    "plt.show()"
   ]
  },
  {
   "cell_type": "code",
   "execution_count": 9,
   "id": "0956ee7a-ec13-4cfd-9e32-46d249829309",
   "metadata": {},
   "outputs": [
    {
     "data": {
      "image/png": "[encoded data removed]",
      "text/plain": [
       "<Figure size 432x288 with 1 Axes>"
      ]
     },
     "metadata": {
      "needs_background": "light"
     },
     "output_type": "display_data"
    }
   ],
   "source": [
    "# Distribution of Fee numerical feature\n",
    "sns.histplot(data=pets_df, x='Fee', bins=30).set(title='Distribution of pet fees paid')\n",
    "plt.show()"
   ]
  },
  {
   "cell_type": "code",
   "execution_count": 10,
   "id": "bb5027ad-01e4-443d-afe5-e719b9d0b206",
   "metadata": {},
   "outputs": [
    {
     "data": {
      "image/png": "[encoded data removed]",
      "text/plain": [
       "<Figure size 432x288 with 1 Axes>"
      ]
     },
     "metadata": {
      "needs_background": "light"
     },
     "output_type": "display_data"
    }
   ],
   "source": [
    "# Distribution of PhotoAmt numerical feature\n",
    "sns.histplot(data=pets_df, x='PhotoAmt', bins=30).set(title='Distribution of PhotoAmt')\n",
    "plt.show()"
   ]
  },
  {
   "cell_type": "code",
   "execution_count": 11,
   "id": "a907d96f-dfb2-4c30-a196-216fda32412d",
   "metadata": {},
   "outputs": [
    {
     "data": {
      "text/html": [
       "<div>\n",
       "<style scoped>\n",
       "    .dataframe tbody tr th:only-of-type {\n",
       "        vertical-align: middle;\n",
       "    }\n",
       "\n",
       "    .dataframe tbody tr th {\n",
       "        vertical-align: top;\n",
       "    }\n",
       "\n",
       "    .dataframe thead th {\n",
       "        text-align: right;\n",
       "    }\n",
       "</style>\n",
       "<table border=\"1\" class=\"dataframe\">\n",
       "  <thead>\n",
       "    <tr style=\"text-align: right;\">\n",
       "      <th></th>\n",
       "      <th>Column Name</th>\n",
       "      <th>Unique entries</th>\n",
       "      <th>Unique entries percent</th>\n",
       "      <th>Missing values</th>\n",
       "      <th>Missing values percent</th>\n",
       "    </tr>\n",
       "  </thead>\n",
       "  <tbody>\n",
       "    <tr>\n",
       "      <th>0</th>\n",
       "      <td>Type</td>\n",
       "      <td>2</td>\n",
       "      <td>0.0</td>\n",
       "      <td>0</td>\n",
       "      <td>0.0</td>\n",
       "    </tr>\n",
       "    <tr>\n",
       "      <th>1</th>\n",
       "      <td>Age</td>\n",
       "      <td>105</td>\n",
       "      <td>0.9</td>\n",
       "      <td>0</td>\n",
       "      <td>0.0</td>\n",
       "    </tr>\n",
       "    <tr>\n",
       "      <th>2</th>\n",
       "      <td>Breed1</td>\n",
       "      <td>166</td>\n",
       "      <td>1.4</td>\n",
       "      <td>0</td>\n",
       "      <td>0.0</td>\n",
       "    </tr>\n",
       "    <tr>\n",
       "      <th>3</th>\n",
       "      <td>Gender</td>\n",
       "      <td>2</td>\n",
       "      <td>0.0</td>\n",
       "      <td>0</td>\n",
       "      <td>0.0</td>\n",
       "    </tr>\n",
       "    <tr>\n",
       "      <th>4</th>\n",
       "      <td>Color1</td>\n",
       "      <td>7</td>\n",
       "      <td>0.1</td>\n",
       "      <td>0</td>\n",
       "      <td>0.0</td>\n",
       "    </tr>\n",
       "    <tr>\n",
       "      <th>5</th>\n",
       "      <td>Color2</td>\n",
       "      <td>7</td>\n",
       "      <td>0.1</td>\n",
       "      <td>0</td>\n",
       "      <td>0.0</td>\n",
       "    </tr>\n",
       "    <tr>\n",
       "      <th>6</th>\n",
       "      <td>MaturitySize</td>\n",
       "      <td>3</td>\n",
       "      <td>0.0</td>\n",
       "      <td>0</td>\n",
       "      <td>0.0</td>\n",
       "    </tr>\n",
       "    <tr>\n",
       "      <th>7</th>\n",
       "      <td>FurLength</td>\n",
       "      <td>3</td>\n",
       "      <td>0.0</td>\n",
       "      <td>0</td>\n",
       "      <td>0.0</td>\n",
       "    </tr>\n",
       "    <tr>\n",
       "      <th>8</th>\n",
       "      <td>Vaccinated</td>\n",
       "      <td>3</td>\n",
       "      <td>0.0</td>\n",
       "      <td>0</td>\n",
       "      <td>0.0</td>\n",
       "    </tr>\n",
       "    <tr>\n",
       "      <th>9</th>\n",
       "      <td>Sterilized</td>\n",
       "      <td>3</td>\n",
       "      <td>0.0</td>\n",
       "      <td>0</td>\n",
       "      <td>0.0</td>\n",
       "    </tr>\n",
       "    <tr>\n",
       "      <th>10</th>\n",
       "      <td>Health</td>\n",
       "      <td>3</td>\n",
       "      <td>0.0</td>\n",
       "      <td>0</td>\n",
       "      <td>0.0</td>\n",
       "    </tr>\n",
       "    <tr>\n",
       "      <th>11</th>\n",
       "      <td>Fee</td>\n",
       "      <td>65</td>\n",
       "      <td>0.6</td>\n",
       "      <td>0</td>\n",
       "      <td>0.0</td>\n",
       "    </tr>\n",
       "    <tr>\n",
       "      <th>12</th>\n",
       "      <td>PhotoAmt</td>\n",
       "      <td>31</td>\n",
       "      <td>0.3</td>\n",
       "      <td>0</td>\n",
       "      <td>0.0</td>\n",
       "    </tr>\n",
       "    <tr>\n",
       "      <th>13</th>\n",
       "      <td>Adopted</td>\n",
       "      <td>2</td>\n",
       "      <td>0.0</td>\n",
       "      <td>0</td>\n",
       "      <td>0.0</td>\n",
       "    </tr>\n",
       "  </tbody>\n",
       "</table>\n",
       "</div>"
      ],
      "text/plain": [
       "     Column Name  Unique entries  Unique entries percent  Missing values  \\\n",
       "0           Type               2                     0.0               0   \n",
       "1            Age             105                     0.9               0   \n",
       "2         Breed1             166                     1.4               0   \n",
       "3         Gender               2                     0.0               0   \n",
       "4         Color1               7                     0.1               0   \n",
       "5         Color2               7                     0.1               0   \n",
       "6   MaturitySize               3                     0.0               0   \n",
       "7      FurLength               3                     0.0               0   \n",
       "8     Vaccinated               3                     0.0               0   \n",
       "9     Sterilized               3                     0.0               0   \n",
       "10        Health               3                     0.0               0   \n",
       "11           Fee              65                     0.6               0   \n",
       "12      PhotoAmt              31                     0.3               0   \n",
       "13       Adopted               2                     0.0               0   \n",
       "\n",
       "    Missing values percent  \n",
       "0                      0.0  \n",
       "1                      0.0  \n",
       "2                      0.0  \n",
       "3                      0.0  \n",
       "4                      0.0  \n",
       "5                      0.0  \n",
       "6                      0.0  \n",
       "7                      0.0  \n",
       "8                      0.0  \n",
       "9                      0.0  \n",
       "10                     0.0  \n",
       "11                     0.0  \n",
       "12                     0.0  \n",
       "13                     0.0  "
      ]
     },
     "execution_count": 11,
     "metadata": {},
     "output_type": "execute_result"
    }
   ],
   "source": [
    "# Cardinality and missing values summary\n",
    "pets_checked = support.data_check(pets_df)\n",
    "pets_checked"
   ]
  },
  {
   "cell_type": "code",
   "execution_count": 12,
   "id": "e9404adf-0adc-4f8e-910d-fc4138393c56",
   "metadata": {},
   "outputs": [
    {
     "data": {
      "image/png": "[encoded data removed]",
      "text/plain": [
       "<Figure size 432x288 with 1 Axes>"
      ]
     },
     "metadata": {
      "needs_background": "light"
     },
     "output_type": "display_data"
    },
    {
     "data": {
      "image/png": "[encoded data removed]",
      "text/plain": [
       "<Figure size 432x288 with 1 Axes>"
      ]
     },
     "metadata": {
      "needs_background": "light"
     },
     "output_type": "display_data"
    },
    {
     "data": {
      "image/png": "[encoded data removed]",
      "text/plain": [
       "<Figure size 432x288 with 1 Axes>"
      ]
     },
     "metadata": {
      "needs_background": "light"
     },
     "output_type": "display_data"
    },
    {
     "data": {
      "image/png": "[encoded data removed]",
      "text/plain": [
       "<Figure size 432x288 with 1 Axes>"
      ]
     },
     "metadata": {
      "needs_background": "light"
     },
     "output_type": "display_data"
    },
    {
     "data": {
      "image/png": "[encoded data removed]",
      "text/plain": [
       "<Figure size 432x288 with 1 Axes>"
      ]
     },
     "metadata": {
      "needs_background": "light"
     },
     "output_type": "display_data"
    },
    {
     "data": {
      "image/png": "[encoded data removed]",
      "text/plain": [
       "<Figure size 432x288 with 1 Axes>"
      ]
     },
     "metadata": {
      "needs_background": "light"
     },
     "output_type": "display_data"
    },
    {
     "data": {
      "image/png": "[encoded data removed]",
      "text/plain": [
       "<Figure size 432x288 with 1 Axes>"
      ]
     },
     "metadata": {
      "needs_background": "light"
     },
     "output_type": "display_data"
    },
    {
     "data": {
      "image/png": "[encoded data removed]",
      "text/plain": [
       "<Figure size 432x288 with 1 Axes>"
      ]
     },
     "metadata": {
      "needs_background": "light"
     },
     "output_type": "display_data"
    },
    {
     "data": {
      "image/png": "[encoded data removed]",
      "text/plain": [
       "<Figure size 432x288 with 1 Axes>"
      ]
     },
     "metadata": {
      "needs_background": "light"
     },
     "output_type": "display_data"
    },
    {
     "data": {
      "image/png": "[encoded data removed]",
      "text/plain": [
       "<Figure size 432x288 with 1 Axes>"
      ]
     },
     "metadata": {
      "needs_background": "light"
     },
     "output_type": "display_data"
    }
   ],
   "source": [
    "# Check on categorical features with reasonable cardinality\n",
    "# \"Breed1\" has cardinality 166 and is not represented here\n",
    "categorical_list = ['Adopted', 'Color1', 'Color2', 'FurLength', 'Gender', 'Health', 'MaturitySize', 'Sterilized', 'Type', 'Vaccinated']\n",
    "for feature in categorical_list:\n",
    "    ax = pets_df[feature].value_counts().plot(title=feature, kind='barh', color='orange')\n",
    "    plt.show()"
   ]
  },
  {
   "cell_type": "code",
   "execution_count": 13,
   "id": "bf150ea7-5bb9-4fe1-9755-b1bc4b9d5ef7",
   "metadata": {},
   "outputs": [
    {
     "data": {
      "text/plain": [
       "['Mixed Breed',\n",
       " 'Domestic Short Hair',\n",
       " 'Domestic Medium Hair',\n",
       " 'Tabby',\n",
       " 'Domestic Long Hair',\n",
       " 'Siamese',\n",
       " 'Shih Tzu',\n",
       " 'Persian']"
      ]
     },
     "execution_count": 13,
     "metadata": {},
     "output_type": "execute_result"
    }
   ],
   "source": [
    "unique_categories = support.reduce_cardinality(pets_df, column='Breed1', threshold=0.8)\n",
    "unique_categories"
   ]
  },
  {
   "cell_type": "code",
   "execution_count": 14,
   "id": "442e97c0-f40a-450b-aac7-d6b1ecee4cce",
   "metadata": {},
   "outputs": [
    {
     "data": {
      "text/plain": [
       "Mixed Breed             4629\n",
       "Domestic Short Hair     2605\n",
       "Other                   2416\n",
       "Domestic Medium Hair     865\n",
       "Tabby                    242\n",
       "Domestic Long Hair       223\n",
       "Siamese                  202\n",
       "Shih Tzu                 178\n",
       "Persian                  177\n",
       "Name: Breed1, dtype: int64"
      ]
     },
     "execution_count": 14,
     "metadata": {},
     "output_type": "execute_result"
    }
   ],
   "source": [
    "# Filter all pets that match the unique categories\n",
    "mask = pets_df['Breed1'].isin(unique_categories)\n",
    "\n",
    "# The complement ~ are pets that are NOT in the list of unique categories. We group them together into a single group called \"Other\"\n",
    "pets_df.loc[~mask, 'Breed1'] = 'Other'\n",
    "pets_df['Breed1'].value_counts()"
   ]
  },
  {
   "cell_type": "markdown",
   "id": "335790e7-065a-4441-9c10-5faefac7dcda",
   "metadata": {},
   "source": [
    "### Encode \"Adopted\" feature\n",
    "\n",
    "* Set Yes = 1\n",
    "* Set No = 0"
   ]
  },
  {
   "cell_type": "code",
   "execution_count": 15,
   "id": "a910c526-aa5e-492c-89f4-ab1ace268802",
   "metadata": {},
   "outputs": [
    {
     "data": {
      "text/plain": [
       "array(['Yes', 'No'], dtype=object)"
      ]
     },
     "execution_count": 15,
     "metadata": {},
     "output_type": "execute_result"
    }
   ],
   "source": [
    "pets_df['Adopted'].unique()"
   ]
  },
  {
   "cell_type": "code",
   "execution_count": 16,
   "id": "87346764-219e-4ab9-9d6b-6c314194d22e",
   "metadata": {},
   "outputs": [],
   "source": [
    "mask_yes = pets_df['Adopted'] == 'Yes'\n",
    "mask_no = pets_df['Adopted'] == 'No'\n",
    "\n",
    "# Change value of Yes to 1\n",
    "pets_df.loc[mask_yes, 'Adopted'] = 1\n",
    "\n",
    "# Change value of No to 0\n",
    "pets_df.loc[mask_no, 'Adopted'] = 0\n",
    "\n",
    "# Convert to integer\n",
    "pets_df['Adopted'] = pets_df['Adopted'].astype(int)"
   ]
  },
  {
   "cell_type": "markdown",
   "id": "0d2d9cde-9a04-4536-a3bb-945432066774",
   "metadata": {},
   "source": [
    "### One-hot encode categorical features\n",
    "\n",
    "* XGBoost v1.6+ supports categorical data but comes with a warning that the feature is highly experimental (https://xgboost.readthedocs.io/en/latest/tutorials/categorical.html)\n",
    "* For now, shall use one-hot encoding using Pandas get_dummies (https://pandas.pydata.org/docs/reference/api/pandas.get_dummies.html)\n",
    "* One-hot encoding leads to sparse data and most importantly adds high dimensionality so care has to be taken\n",
    "* As follow-up work, I shall explore Weight of Evidence and Information Value to group together similar features (https://www.listendata.com/2015/03/weight-of-evidence-woe-and-information.html) as an alternative to one-hot encoding"
   ]
  },
  {
   "cell_type": "code",
   "execution_count": 17,
   "id": "b67b3d3b-9a4d-4c2d-8264-163d2552159b",
   "metadata": {},
   "outputs": [
    {
     "name": "stdout",
     "output_type": "stream",
     "text": [
      "Dimensions before one-hot encoding: (11537, 14)\n",
      "Dimensions after one-hot encoding: (11537, 46)\n"
     ]
    }
   ],
   "source": [
    "print(\"Dimensions before one-hot encoding: {}\".format(pets_df.shape))\n",
    "\n",
    "categorical_list = ['Breed1', 'Color1', 'Color2', 'FurLength', 'Gender', 'Health', 'MaturitySize', 'Sterilized', 'Type', 'Vaccinated']\n",
    "pets_df = support.create_one_hot_dataframe(pets_df, categorical_list)\n",
    "\n",
    "print(\"Dimensions after one-hot encoding: {}\".format(pets_df.shape))"
   ]
  },
  {
   "cell_type": "code",
   "execution_count": 18,
   "id": "56dc9eaa-ccc1-42b0-83b9-78834e6233df",
   "metadata": {},
   "outputs": [
    {
     "data": {
      "text/html": [
       "<div>\n",
       "<style scoped>\n",
       "    .dataframe tbody tr th:only-of-type {\n",
       "        vertical-align: middle;\n",
       "    }\n",
       "\n",
       "    .dataframe tbody tr th {\n",
       "        vertical-align: top;\n",
       "    }\n",
       "\n",
       "    .dataframe thead th {\n",
       "        text-align: right;\n",
       "    }\n",
       "</style>\n",
       "<table border=\"1\" class=\"dataframe\">\n",
       "  <thead>\n",
       "    <tr style=\"text-align: right;\">\n",
       "      <th></th>\n",
       "      <th>Age</th>\n",
       "      <th>Fee</th>\n",
       "      <th>PhotoAmt</th>\n",
       "      <th>Adopted</th>\n",
       "      <th>Breed1_Domestic Long Hair</th>\n",
       "      <th>Breed1_Domestic Medium Hair</th>\n",
       "      <th>Breed1_Domestic Short Hair</th>\n",
       "      <th>Breed1_Mixed Breed</th>\n",
       "      <th>Breed1_Other</th>\n",
       "      <th>Breed1_Persian</th>\n",
       "      <th>...</th>\n",
       "      <th>MaturitySize_Medium</th>\n",
       "      <th>MaturitySize_Small</th>\n",
       "      <th>Sterilized_No</th>\n",
       "      <th>Sterilized_Not Sure</th>\n",
       "      <th>Sterilized_Yes</th>\n",
       "      <th>Type_Cat</th>\n",
       "      <th>Type_Dog</th>\n",
       "      <th>Vaccinated_No</th>\n",
       "      <th>Vaccinated_Not Sure</th>\n",
       "      <th>Vaccinated_Yes</th>\n",
       "    </tr>\n",
       "  </thead>\n",
       "  <tbody>\n",
       "    <tr>\n",
       "      <th>0</th>\n",
       "      <td>3</td>\n",
       "      <td>100</td>\n",
       "      <td>1</td>\n",
       "      <td>1</td>\n",
       "      <td>0</td>\n",
       "      <td>0</td>\n",
       "      <td>0</td>\n",
       "      <td>0</td>\n",
       "      <td>0</td>\n",
       "      <td>0</td>\n",
       "      <td>...</td>\n",
       "      <td>0</td>\n",
       "      <td>1</td>\n",
       "      <td>1</td>\n",
       "      <td>0</td>\n",
       "      <td>0</td>\n",
       "      <td>1</td>\n",
       "      <td>0</td>\n",
       "      <td>1</td>\n",
       "      <td>0</td>\n",
       "      <td>0</td>\n",
       "    </tr>\n",
       "    <tr>\n",
       "      <th>1</th>\n",
       "      <td>1</td>\n",
       "      <td>0</td>\n",
       "      <td>2</td>\n",
       "      <td>1</td>\n",
       "      <td>0</td>\n",
       "      <td>1</td>\n",
       "      <td>0</td>\n",
       "      <td>0</td>\n",
       "      <td>0</td>\n",
       "      <td>0</td>\n",
       "      <td>...</td>\n",
       "      <td>1</td>\n",
       "      <td>0</td>\n",
       "      <td>0</td>\n",
       "      <td>1</td>\n",
       "      <td>0</td>\n",
       "      <td>1</td>\n",
       "      <td>0</td>\n",
       "      <td>0</td>\n",
       "      <td>1</td>\n",
       "      <td>0</td>\n",
       "    </tr>\n",
       "    <tr>\n",
       "      <th>2</th>\n",
       "      <td>1</td>\n",
       "      <td>0</td>\n",
       "      <td>7</td>\n",
       "      <td>1</td>\n",
       "      <td>0</td>\n",
       "      <td>0</td>\n",
       "      <td>0</td>\n",
       "      <td>1</td>\n",
       "      <td>0</td>\n",
       "      <td>0</td>\n",
       "      <td>...</td>\n",
       "      <td>1</td>\n",
       "      <td>0</td>\n",
       "      <td>1</td>\n",
       "      <td>0</td>\n",
       "      <td>0</td>\n",
       "      <td>0</td>\n",
       "      <td>1</td>\n",
       "      <td>0</td>\n",
       "      <td>0</td>\n",
       "      <td>1</td>\n",
       "    </tr>\n",
       "    <tr>\n",
       "      <th>3</th>\n",
       "      <td>4</td>\n",
       "      <td>150</td>\n",
       "      <td>8</td>\n",
       "      <td>1</td>\n",
       "      <td>0</td>\n",
       "      <td>0</td>\n",
       "      <td>0</td>\n",
       "      <td>1</td>\n",
       "      <td>0</td>\n",
       "      <td>0</td>\n",
       "      <td>...</td>\n",
       "      <td>1</td>\n",
       "      <td>0</td>\n",
       "      <td>1</td>\n",
       "      <td>0</td>\n",
       "      <td>0</td>\n",
       "      <td>0</td>\n",
       "      <td>1</td>\n",
       "      <td>0</td>\n",
       "      <td>0</td>\n",
       "      <td>1</td>\n",
       "    </tr>\n",
       "    <tr>\n",
       "      <th>4</th>\n",
       "      <td>1</td>\n",
       "      <td>0</td>\n",
       "      <td>3</td>\n",
       "      <td>1</td>\n",
       "      <td>0</td>\n",
       "      <td>0</td>\n",
       "      <td>0</td>\n",
       "      <td>1</td>\n",
       "      <td>0</td>\n",
       "      <td>0</td>\n",
       "      <td>...</td>\n",
       "      <td>1</td>\n",
       "      <td>0</td>\n",
       "      <td>1</td>\n",
       "      <td>0</td>\n",
       "      <td>0</td>\n",
       "      <td>0</td>\n",
       "      <td>1</td>\n",
       "      <td>1</td>\n",
       "      <td>0</td>\n",
       "      <td>0</td>\n",
       "    </tr>\n",
       "  </tbody>\n",
       "</table>\n",
       "<p>5 rows × 46 columns</p>\n",
       "</div>"
      ],
      "text/plain": [
       "   Age  Fee  PhotoAmt  Adopted  Breed1_Domestic Long Hair  \\\n",
       "0    3  100         1        1                          0   \n",
       "1    1    0         2        1                          0   \n",
       "2    1    0         7        1                          0   \n",
       "3    4  150         8        1                          0   \n",
       "4    1    0         3        1                          0   \n",
       "\n",
       "   Breed1_Domestic Medium Hair  Breed1_Domestic Short Hair  \\\n",
       "0                            0                           0   \n",
       "1                            1                           0   \n",
       "2                            0                           0   \n",
       "3                            0                           0   \n",
       "4                            0                           0   \n",
       "\n",
       "   Breed1_Mixed Breed  Breed1_Other  Breed1_Persian  ...  MaturitySize_Medium  \\\n",
       "0                   0             0               0  ...                    0   \n",
       "1                   0             0               0  ...                    1   \n",
       "2                   1             0               0  ...                    1   \n",
       "3                   1             0               0  ...                    1   \n",
       "4                   1             0               0  ...                    1   \n",
       "\n",
       "   MaturitySize_Small  Sterilized_No  Sterilized_Not Sure  Sterilized_Yes  \\\n",
       "0                   1              1                    0               0   \n",
       "1                   0              0                    1               0   \n",
       "2                   0              1                    0               0   \n",
       "3                   0              1                    0               0   \n",
       "4                   0              1                    0               0   \n",
       "\n",
       "   Type_Cat  Type_Dog  Vaccinated_No  Vaccinated_Not Sure  Vaccinated_Yes  \n",
       "0         1         0              1                    0               0  \n",
       "1         1         0              0                    1               0  \n",
       "2         0         1              0                    0               1  \n",
       "3         0         1              0                    0               1  \n",
       "4         0         1              1                    0               0  \n",
       "\n",
       "[5 rows x 46 columns]"
      ]
     },
     "execution_count": 18,
     "metadata": {},
     "output_type": "execute_result"
    }
   ],
   "source": [
    "pets_df.head()"
   ]
  },
  {
   "cell_type": "code",
   "execution_count": 19,
   "id": "8e1e3b4f-5c8d-4ff1-b9b4-33e1248e5c5e",
   "metadata": {},
   "outputs": [
    {
     "data": {
      "text/plain": [
       "array([ 1,  2,  7,  8,  3,  6,  0, 19, 11,  5,  4, 13, 18, 12, 10,  9, 24,\n",
       "       14, 15, 23, 28, 20, 27, 26, 16, 30, 29, 22, 25, 21, 17],\n",
       "      dtype=int64)"
      ]
     },
     "execution_count": 19,
     "metadata": {},
     "output_type": "execute_result"
    }
   ],
   "source": [
    "pets_df['PhotoAmt'].unique()"
   ]
  },
  {
   "cell_type": "markdown",
   "id": "01680041-6716-4dad-8bf3-3a1fe03a3ecf",
   "metadata": {},
   "source": [
    "## Set feature vector and target variable"
   ]
  },
  {
   "cell_type": "code",
   "execution_count": 20,
   "id": "6d153bf3-30a4-4033-a8c7-e49db5004038",
   "metadata": {},
   "outputs": [],
   "source": [
    "X = pets_df.drop('Adopted', axis=1)\n",
    "y = pets_df['Adopted'].values"
   ]
  },
  {
   "cell_type": "code",
   "execution_count": 21,
   "id": "ca726886-b663-4b24-8ee3-9a3aebfdc0dc",
   "metadata": {},
   "outputs": [
    {
     "data": {
      "text/html": [
       "<div>\n",
       "<style scoped>\n",
       "    .dataframe tbody tr th:only-of-type {\n",
       "        vertical-align: middle;\n",
       "    }\n",
       "\n",
       "    .dataframe tbody tr th {\n",
       "        vertical-align: top;\n",
       "    }\n",
       "\n",
       "    .dataframe thead th {\n",
       "        text-align: right;\n",
       "    }\n",
       "</style>\n",
       "<table border=\"1\" class=\"dataframe\">\n",
       "  <thead>\n",
       "    <tr style=\"text-align: right;\">\n",
       "      <th></th>\n",
       "      <th>Age</th>\n",
       "      <th>Fee</th>\n",
       "      <th>PhotoAmt</th>\n",
       "      <th>Breed1_Domestic Long Hair</th>\n",
       "      <th>Breed1_Domestic Medium Hair</th>\n",
       "      <th>Breed1_Domestic Short Hair</th>\n",
       "      <th>Breed1_Mixed Breed</th>\n",
       "      <th>Breed1_Other</th>\n",
       "      <th>Breed1_Persian</th>\n",
       "      <th>Breed1_Shih Tzu</th>\n",
       "      <th>...</th>\n",
       "      <th>MaturitySize_Medium</th>\n",
       "      <th>MaturitySize_Small</th>\n",
       "      <th>Sterilized_No</th>\n",
       "      <th>Sterilized_Not Sure</th>\n",
       "      <th>Sterilized_Yes</th>\n",
       "      <th>Type_Cat</th>\n",
       "      <th>Type_Dog</th>\n",
       "      <th>Vaccinated_No</th>\n",
       "      <th>Vaccinated_Not Sure</th>\n",
       "      <th>Vaccinated_Yes</th>\n",
       "    </tr>\n",
       "  </thead>\n",
       "  <tbody>\n",
       "    <tr>\n",
       "      <th>0</th>\n",
       "      <td>3</td>\n",
       "      <td>100</td>\n",
       "      <td>1</td>\n",
       "      <td>0</td>\n",
       "      <td>0</td>\n",
       "      <td>0</td>\n",
       "      <td>0</td>\n",
       "      <td>0</td>\n",
       "      <td>0</td>\n",
       "      <td>0</td>\n",
       "      <td>...</td>\n",
       "      <td>0</td>\n",
       "      <td>1</td>\n",
       "      <td>1</td>\n",
       "      <td>0</td>\n",
       "      <td>0</td>\n",
       "      <td>1</td>\n",
       "      <td>0</td>\n",
       "      <td>1</td>\n",
       "      <td>0</td>\n",
       "      <td>0</td>\n",
       "    </tr>\n",
       "    <tr>\n",
       "      <th>1</th>\n",
       "      <td>1</td>\n",
       "      <td>0</td>\n",
       "      <td>2</td>\n",
       "      <td>0</td>\n",
       "      <td>1</td>\n",
       "      <td>0</td>\n",
       "      <td>0</td>\n",
       "      <td>0</td>\n",
       "      <td>0</td>\n",
       "      <td>0</td>\n",
       "      <td>...</td>\n",
       "      <td>1</td>\n",
       "      <td>0</td>\n",
       "      <td>0</td>\n",
       "      <td>1</td>\n",
       "      <td>0</td>\n",
       "      <td>1</td>\n",
       "      <td>0</td>\n",
       "      <td>0</td>\n",
       "      <td>1</td>\n",
       "      <td>0</td>\n",
       "    </tr>\n",
       "    <tr>\n",
       "      <th>2</th>\n",
       "      <td>1</td>\n",
       "      <td>0</td>\n",
       "      <td>7</td>\n",
       "      <td>0</td>\n",
       "      <td>0</td>\n",
       "      <td>0</td>\n",
       "      <td>1</td>\n",
       "      <td>0</td>\n",
       "      <td>0</td>\n",
       "      <td>0</td>\n",
       "      <td>...</td>\n",
       "      <td>1</td>\n",
       "      <td>0</td>\n",
       "      <td>1</td>\n",
       "      <td>0</td>\n",
       "      <td>0</td>\n",
       "      <td>0</td>\n",
       "      <td>1</td>\n",
       "      <td>0</td>\n",
       "      <td>0</td>\n",
       "      <td>1</td>\n",
       "    </tr>\n",
       "    <tr>\n",
       "      <th>3</th>\n",
       "      <td>4</td>\n",
       "      <td>150</td>\n",
       "      <td>8</td>\n",
       "      <td>0</td>\n",
       "      <td>0</td>\n",
       "      <td>0</td>\n",
       "      <td>1</td>\n",
       "      <td>0</td>\n",
       "      <td>0</td>\n",
       "      <td>0</td>\n",
       "      <td>...</td>\n",
       "      <td>1</td>\n",
       "      <td>0</td>\n",
       "      <td>1</td>\n",
       "      <td>0</td>\n",
       "      <td>0</td>\n",
       "      <td>0</td>\n",
       "      <td>1</td>\n",
       "      <td>0</td>\n",
       "      <td>0</td>\n",
       "      <td>1</td>\n",
       "    </tr>\n",
       "    <tr>\n",
       "      <th>4</th>\n",
       "      <td>1</td>\n",
       "      <td>0</td>\n",
       "      <td>3</td>\n",
       "      <td>0</td>\n",
       "      <td>0</td>\n",
       "      <td>0</td>\n",
       "      <td>1</td>\n",
       "      <td>0</td>\n",
       "      <td>0</td>\n",
       "      <td>0</td>\n",
       "      <td>...</td>\n",
       "      <td>1</td>\n",
       "      <td>0</td>\n",
       "      <td>1</td>\n",
       "      <td>0</td>\n",
       "      <td>0</td>\n",
       "      <td>0</td>\n",
       "      <td>1</td>\n",
       "      <td>1</td>\n",
       "      <td>0</td>\n",
       "      <td>0</td>\n",
       "    </tr>\n",
       "  </tbody>\n",
       "</table>\n",
       "<p>5 rows × 45 columns</p>\n",
       "</div>"
      ],
      "text/plain": [
       "   Age  Fee  PhotoAmt  Breed1_Domestic Long Hair  Breed1_Domestic Medium Hair  \\\n",
       "0    3  100         1                          0                            0   \n",
       "1    1    0         2                          0                            1   \n",
       "2    1    0         7                          0                            0   \n",
       "3    4  150         8                          0                            0   \n",
       "4    1    0         3                          0                            0   \n",
       "\n",
       "   Breed1_Domestic Short Hair  Breed1_Mixed Breed  Breed1_Other  \\\n",
       "0                           0                   0             0   \n",
       "1                           0                   0             0   \n",
       "2                           0                   1             0   \n",
       "3                           0                   1             0   \n",
       "4                           0                   1             0   \n",
       "\n",
       "   Breed1_Persian  Breed1_Shih Tzu  ...  MaturitySize_Medium  \\\n",
       "0               0                0  ...                    0   \n",
       "1               0                0  ...                    1   \n",
       "2               0                0  ...                    1   \n",
       "3               0                0  ...                    1   \n",
       "4               0                0  ...                    1   \n",
       "\n",
       "   MaturitySize_Small  Sterilized_No  Sterilized_Not Sure  Sterilized_Yes  \\\n",
       "0                   1              1                    0               0   \n",
       "1                   0              0                    1               0   \n",
       "2                   0              1                    0               0   \n",
       "3                   0              1                    0               0   \n",
       "4                   0              1                    0               0   \n",
       "\n",
       "   Type_Cat  Type_Dog  Vaccinated_No  Vaccinated_Not Sure  Vaccinated_Yes  \n",
       "0         1         0              1                    0               0  \n",
       "1         1         0              0                    1               0  \n",
       "2         0         1              0                    0               1  \n",
       "3         0         1              0                    0               1  \n",
       "4         0         1              1                    0               0  \n",
       "\n",
       "[5 rows x 45 columns]"
      ]
     },
     "execution_count": 21,
     "metadata": {},
     "output_type": "execute_result"
    }
   ],
   "source": [
    "X.head()"
   ]
  },
  {
   "cell_type": "markdown",
   "id": "1130a2fb-6cd7-4979-8845-31df5e9d6f19",
   "metadata": {},
   "source": [
    "## Split data into train, validation and test\n",
    "\n",
    "* Total rows = 11537\n",
    "* Train. 60% or 11537 * 0.6 = 6922.2 but we round down to 6921 to accomodate equal validation and test sizes\n",
    "* Validation. 20% or 11537 * 0.2 = 2307.4 but we round up to 2308 so that the sum of train, validation and test are 11537\n",
    "* Test. 20% as above i.e. = 2308"
   ]
  },
  {
   "cell_type": "code",
   "execution_count": 22,
   "id": "27631c6f-d8df-4c3f-ac25-5b4008d29bc4",
   "metadata": {},
   "outputs": [
    {
     "ename": "ValueError",
     "evalue": "Found input variables with inconsistent numbers of samples: [9229, 11537]",
     "output_type": "error",
     "traceback": [
      "\u001b[1;31m---------------------------------------------------------------------------\u001b[0m",
      "\u001b[1;31mValueError\u001b[0m                                Traceback (most recent call last)",
      "\u001b[1;32m~\\AppData\\Local\\Temp/ipykernel_940/1982648913.py\u001b[0m in \u001b[0;36m<module>\u001b[1;34m\u001b[0m\n\u001b[0;32m      3\u001b[0m \u001b[1;33m\u001b[0m\u001b[0m\n\u001b[0;32m      4\u001b[0m \u001b[1;31m# Then split train and validation\u001b[0m\u001b[1;33m\u001b[0m\u001b[1;33m\u001b[0m\u001b[1;33m\u001b[0m\u001b[0m\n\u001b[1;32m----> 5\u001b[1;33m \u001b[0mX_train\u001b[0m\u001b[1;33m,\u001b[0m \u001b[0mX_val\u001b[0m\u001b[1;33m,\u001b[0m \u001b[0my_train\u001b[0m\u001b[1;33m,\u001b[0m \u001b[0my_val\u001b[0m \u001b[1;33m=\u001b[0m \u001b[0mtrain_test_split\u001b[0m\u001b[1;33m(\u001b[0m\u001b[0mX_train\u001b[0m\u001b[1;33m,\u001b[0m \u001b[0my_train\u001b[0m\u001b[1;33m,\u001b[0m \u001b[0mstratify\u001b[0m\u001b[1;33m=\u001b[0m\u001b[0my\u001b[0m\u001b[1;33m,\u001b[0m \u001b[0mtest_size\u001b[0m\u001b[1;33m=\u001b[0m\u001b[1;36m2308\u001b[0m\u001b[1;33m,\u001b[0m \u001b[0mrandom_state\u001b[0m\u001b[1;33m=\u001b[0m\u001b[1;36m0\u001b[0m\u001b[1;33m)\u001b[0m\u001b[1;33m\u001b[0m\u001b[1;33m\u001b[0m\u001b[0m\n\u001b[0m",
      "\u001b[1;32m~\\anaconda3\\envs\\py37_default\\lib\\site-packages\\sklearn\\model_selection\\_split.py\u001b[0m in \u001b[0;36mtrain_test_split\u001b[1;34m(test_size, train_size, random_state, shuffle, stratify, *arrays)\u001b[0m\n\u001b[0;32m   2441\u001b[0m         \u001b[0mcv\u001b[0m \u001b[1;33m=\u001b[0m \u001b[0mCVClass\u001b[0m\u001b[1;33m(\u001b[0m\u001b[0mtest_size\u001b[0m\u001b[1;33m=\u001b[0m\u001b[0mn_test\u001b[0m\u001b[1;33m,\u001b[0m \u001b[0mtrain_size\u001b[0m\u001b[1;33m=\u001b[0m\u001b[0mn_train\u001b[0m\u001b[1;33m,\u001b[0m \u001b[0mrandom_state\u001b[0m\u001b[1;33m=\u001b[0m\u001b[0mrandom_state\u001b[0m\u001b[1;33m)\u001b[0m\u001b[1;33m\u001b[0m\u001b[1;33m\u001b[0m\u001b[0m\n\u001b[0;32m   2442\u001b[0m \u001b[1;33m\u001b[0m\u001b[0m\n\u001b[1;32m-> 2443\u001b[1;33m         \u001b[0mtrain\u001b[0m\u001b[1;33m,\u001b[0m \u001b[0mtest\u001b[0m \u001b[1;33m=\u001b[0m \u001b[0mnext\u001b[0m\u001b[1;33m(\u001b[0m\u001b[0mcv\u001b[0m\u001b[1;33m.\u001b[0m\u001b[0msplit\u001b[0m\u001b[1;33m(\u001b[0m\u001b[0mX\u001b[0m\u001b[1;33m=\u001b[0m\u001b[0marrays\u001b[0m\u001b[1;33m[\u001b[0m\u001b[1;36m0\u001b[0m\u001b[1;33m]\u001b[0m\u001b[1;33m,\u001b[0m \u001b[0my\u001b[0m\u001b[1;33m=\u001b[0m\u001b[0mstratify\u001b[0m\u001b[1;33m)\u001b[0m\u001b[1;33m)\u001b[0m\u001b[1;33m\u001b[0m\u001b[1;33m\u001b[0m\u001b[0m\n\u001b[0m\u001b[0;32m   2444\u001b[0m \u001b[1;33m\u001b[0m\u001b[0m\n\u001b[0;32m   2445\u001b[0m     return list(\n",
      "\u001b[1;32m~\\anaconda3\\envs\\py37_default\\lib\\site-packages\\sklearn\\model_selection\\_split.py\u001b[0m in \u001b[0;36msplit\u001b[1;34m(self, X, y, groups)\u001b[0m\n\u001b[0;32m   1597\u001b[0m         \u001b[0mto\u001b[0m \u001b[0man\u001b[0m \u001b[0minteger\u001b[0m\u001b[1;33m.\u001b[0m\u001b[1;33m\u001b[0m\u001b[1;33m\u001b[0m\u001b[0m\n\u001b[0;32m   1598\u001b[0m         \"\"\"\n\u001b[1;32m-> 1599\u001b[1;33m         \u001b[0mX\u001b[0m\u001b[1;33m,\u001b[0m \u001b[0my\u001b[0m\u001b[1;33m,\u001b[0m \u001b[0mgroups\u001b[0m \u001b[1;33m=\u001b[0m \u001b[0mindexable\u001b[0m\u001b[1;33m(\u001b[0m\u001b[0mX\u001b[0m\u001b[1;33m,\u001b[0m \u001b[0my\u001b[0m\u001b[1;33m,\u001b[0m \u001b[0mgroups\u001b[0m\u001b[1;33m)\u001b[0m\u001b[1;33m\u001b[0m\u001b[1;33m\u001b[0m\u001b[0m\n\u001b[0m\u001b[0;32m   1600\u001b[0m         \u001b[1;32mfor\u001b[0m \u001b[0mtrain\u001b[0m\u001b[1;33m,\u001b[0m \u001b[0mtest\u001b[0m \u001b[1;32min\u001b[0m \u001b[0mself\u001b[0m\u001b[1;33m.\u001b[0m\u001b[0m_iter_indices\u001b[0m\u001b[1;33m(\u001b[0m\u001b[0mX\u001b[0m\u001b[1;33m,\u001b[0m \u001b[0my\u001b[0m\u001b[1;33m,\u001b[0m \u001b[0mgroups\u001b[0m\u001b[1;33m)\u001b[0m\u001b[1;33m:\u001b[0m\u001b[1;33m\u001b[0m\u001b[1;33m\u001b[0m\u001b[0m\n\u001b[0;32m   1601\u001b[0m             \u001b[1;32myield\u001b[0m \u001b[0mtrain\u001b[0m\u001b[1;33m,\u001b[0m \u001b[0mtest\u001b[0m\u001b[1;33m\u001b[0m\u001b[1;33m\u001b[0m\u001b[0m\n",
      "\u001b[1;32m~\\anaconda3\\envs\\py37_default\\lib\\site-packages\\sklearn\\utils\\validation.py\u001b[0m in \u001b[0;36mindexable\u001b[1;34m(*iterables)\u001b[0m\n\u001b[0;32m    368\u001b[0m     \"\"\"\n\u001b[0;32m    369\u001b[0m     \u001b[0mresult\u001b[0m \u001b[1;33m=\u001b[0m \u001b[1;33m[\u001b[0m\u001b[0m_make_indexable\u001b[0m\u001b[1;33m(\u001b[0m\u001b[0mX\u001b[0m\u001b[1;33m)\u001b[0m \u001b[1;32mfor\u001b[0m \u001b[0mX\u001b[0m \u001b[1;32min\u001b[0m \u001b[0miterables\u001b[0m\u001b[1;33m]\u001b[0m\u001b[1;33m\u001b[0m\u001b[1;33m\u001b[0m\u001b[0m\n\u001b[1;32m--> 370\u001b[1;33m     \u001b[0mcheck_consistent_length\u001b[0m\u001b[1;33m(\u001b[0m\u001b[1;33m*\u001b[0m\u001b[0mresult\u001b[0m\u001b[1;33m)\u001b[0m\u001b[1;33m\u001b[0m\u001b[1;33m\u001b[0m\u001b[0m\n\u001b[0m\u001b[0;32m    371\u001b[0m     \u001b[1;32mreturn\u001b[0m \u001b[0mresult\u001b[0m\u001b[1;33m\u001b[0m\u001b[1;33m\u001b[0m\u001b[0m\n\u001b[0;32m    372\u001b[0m \u001b[1;33m\u001b[0m\u001b[0m\n",
      "\u001b[1;32m~\\anaconda3\\envs\\py37_default\\lib\\site-packages\\sklearn\\utils\\validation.py\u001b[0m in \u001b[0;36mcheck_consistent_length\u001b[1;34m(*arrays)\u001b[0m\n\u001b[0;32m    331\u001b[0m         raise ValueError(\n\u001b[0;32m    332\u001b[0m             \u001b[1;34m\"Found input variables with inconsistent numbers of samples: %r\"\u001b[0m\u001b[1;33m\u001b[0m\u001b[1;33m\u001b[0m\u001b[0m\n\u001b[1;32m--> 333\u001b[1;33m             \u001b[1;33m%\u001b[0m \u001b[1;33m[\u001b[0m\u001b[0mint\u001b[0m\u001b[1;33m(\u001b[0m\u001b[0ml\u001b[0m\u001b[1;33m)\u001b[0m \u001b[1;32mfor\u001b[0m \u001b[0ml\u001b[0m \u001b[1;32min\u001b[0m \u001b[0mlengths\u001b[0m\u001b[1;33m]\u001b[0m\u001b[1;33m\u001b[0m\u001b[1;33m\u001b[0m\u001b[0m\n\u001b[0m\u001b[0;32m    334\u001b[0m         )\n\u001b[0;32m    335\u001b[0m \u001b[1;33m\u001b[0m\u001b[0m\n",
      "\u001b[1;31mValueError\u001b[0m: Found input variables with inconsistent numbers of samples: [9229, 11537]"
     ]
    }
   ],
   "source": [
    "# Split into (train and validation), test\n",
    "X_train, X_test, y_train, y_test = train_test_split(X, y, test_size=2308, random_state=0)\n",
    "\n",
    "# Then split train and validation\n",
    "X_train, X_val, y_train, y_val = train_test_split(X_train, y_train, test_size=2308, random_state=0)"
   ]
  },
  {
   "cell_type": "code",
   "execution_count": null,
   "id": "fbfe5ce1-246b-41a1-add7-5722c65ec059",
   "metadata": {},
   "outputs": [],
   "source": [
    "print(\"Train: X{}  y{}\".format(X_train.shape, y_train.shape))\n",
    "print(\"Validation: X{}  y{}\".format(X_val.shape, y_val.shape))\n",
    "print(\"Test: X{}  y{}\".format(X_test.shape, y_test.shape))\n",
    "print(\"Entire dataset: {}\".format(pets_df.shape))"
   ]
  },
  {
   "cell_type": "markdown",
   "id": "8931589f-d842-4352-a3a8-f26ae294fc16",
   "metadata": {},
   "source": [
    "## Baseline model\n",
    "\n",
    "We use sklearn's DummyClassifier to set a baseline model prediction. The strategy is to opt for the most frequent value."
   ]
  },
  {
   "cell_type": "code",
   "execution_count": null,
   "id": "15589609-c28c-49ac-9cc3-9e5d546a1340",
   "metadata": {},
   "outputs": [],
   "source": [
    "dummy = DummyClassifier(strategy='most_frequent', random_state=0)\n",
    "dummy.fit(X_train, y_train)\n",
    "\n",
    "# Make predictions on the test set (model has not seen this before)\n",
    "y_pred = dummy.predict(X_test)\n",
    "\n",
    "print(\"Dummy model scores\")\n",
    "print(\"F1: {0:0.4f}\".format(f1_score(y_test, y_pred)))\n",
    "print(\"Accuracy: {0:0.4f}\".format(accuracy_score(y_test, y_pred)))\n",
    "print(\"Recall: {0:0.4f}\".format(recall_score(y_test, y_pred)))"
   ]
  },
  {
   "cell_type": "markdown",
   "id": "d6d2f2e3-b088-4946-9c85-981fa2adcee8",
   "metadata": {},
   "source": [
    "## XGBoost algorithm\n",
    "\n",
    "### Train model (no early stopping, default parameters)"
   ]
  },
  {
   "cell_type": "code",
   "execution_count": null,
   "id": "d1e41b17-a13a-4d37-aa26-5b7b7c94d6ff",
   "metadata": {},
   "outputs": [],
   "source": [
    "xgb_clf = XGBClassifier()\n",
    "\n",
    "# Fit the classifier to the training data\n",
    "eval_set = [(X_train, y_train), (X_val, y_val)]\n",
    "xgb_clf.fit(X_train, \n",
    "            y_train, \n",
    "            eval_set=eval_set,\n",
    "            eval_metric='logloss',\n",
    "            verbose=False)"
   ]
  },
  {
   "cell_type": "code",
   "execution_count": null,
   "id": "f064d78b-13b0-4fac-8a91-75ed4bdc8b8e",
   "metadata": {},
   "outputs": [],
   "source": [
    "# Make predictions on the test set (model has not seen this before)\n",
    "y_pred = xgb_clf.predict(X_test)\n",
    "\n",
    "print(\"XGBoost model scores\")\n",
    "print(\"F1: {0:0.4f}\".format(f1_score(y_test, y_pred)))\n",
    "print(\"Accuracy: {0:0.4f}\".format(accuracy_score(y_test, y_pred)))\n",
    "print(\"Recall: {0:0.4f}\".format(recall_score(y_test, y_pred)))"
   ]
  },
  {
   "cell_type": "markdown",
   "id": "f7627379-8931-41f7-9ee2-3efe2f9a5264",
   "metadata": {},
   "source": [
    "### Train model (use early stopping, default parameters)"
   ]
  },
  {
   "cell_type": "code",
   "execution_count": null,
   "id": "33e1a91a-d72c-4e3d-b727-ee91cbe65fb5",
   "metadata": {},
   "outputs": [],
   "source": [
    "# Get the optimal number of trees. We use this in the early_stoping_rounds .fit method\n",
    "results = xgb_clf.evals_result()\n",
    "optimal_trees = support.optimal_number_of_trees(results, metric='logloss')  # for classification we use logloss"
   ]
  },
  {
   "cell_type": "code",
   "execution_count": null,
   "id": "3fdf2f04-b218-44a0-aa9d-2733f9da67d4",
   "metadata": {},
   "outputs": [],
   "source": [
    "# Plot the training and validation loss. Mark where the validation loss is at a minimum\n",
    "plt.figure(figsize=(14, 8))\n",
    "plt.plot(results[\"validation_0\"][\"logloss\"], label=\"Training loss\")\n",
    "plt.plot(results[\"validation_1\"][\"logloss\"], label=\"Validation loss\")\n",
    "plt.axvline(optimal_trees, color=\"purple\", label=\"Optimal tree number\")\n",
    "plt.title(\"Validation loss minimized at {} trees\".format(optimal_trees))\n",
    "plt.xlabel(\"Number of trees\")\n",
    "plt.ylabel(\"Loss\")\n",
    "plt.legend()\n",
    "plt.show()"
   ]
  },
  {
   "cell_type": "code",
   "execution_count": null,
   "id": "2ac6d140-b6ef-417d-9d2b-26d84a63047f",
   "metadata": {},
   "outputs": [],
   "source": [
    "# Fit the model again but set early_stopping_rounds\n",
    "xgb_clf.fit(X_train, \n",
    "            y_train,\n",
    "            early_stopping_rounds=optimal_trees,\n",
    "            eval_set=eval_set,\n",
    "            eval_metric='logloss',\n",
    "            verbose=False)"
   ]
  },
  {
   "cell_type": "code",
   "execution_count": null,
   "id": "c217f155-2f29-4807-81c6-f793b1284d4e",
   "metadata": {},
   "outputs": [],
   "source": [
    "# Make predictions on the test set (model has not seen this before)\n",
    "y_pred = xgb_clf.predict(X_test)\n",
    "\n",
    "print(\"XGBoost model scores\")\n",
    "print(\"F1: {0:0.4f}\".format(f1_score(y_test, y_pred)))\n",
    "print(\"Accuracy: {0:0.4f}\".format(accuracy_score(y_test, y_pred)))\n",
    "print(\"Recall: {0:0.4f}\".format(recall_score(y_test, y_pred)))"
   ]
  },
  {
   "cell_type": "markdown",
   "id": "f4894384-725a-4f1b-b801-62aa47941582",
   "metadata": {},
   "source": [
    "### Train model (use early stopping, scale_pos_weight parameter)\n",
    "\n",
    "* The dataset has imbalanced classification\n",
    "* The majority class is \"Adopted\" and represents 8457/11537 (73.3%)\n",
    "* The minority class is \"Not Adopted\" and represents 3080/11537 (26.7%)\n",
    "* We call the majority class \"negative examples\" (Adopted)\n",
    "* We call the minority class \"positive examples\" (Not Adopted)\n",
    "* XGBoost offers the scale_pos_weight hyperparameter\n",
    "  * Scales the gradient for the positive class\n",
    "  * scale_pos_weight = total_negative_examples / total_positive_examples = 8457 / 3080 = 2.8 \n",
    "  * scale_pos_weight = 3 (rounded to nearest integer)\n",
    "  * Reference: https://machinelearningmastery.com/xgboost-for-imbalanced-classification/"
   ]
  },
  {
   "cell_type": "code",
   "execution_count": null,
   "id": "e0c47490-0d31-4de8-839e-058285eed089",
   "metadata": {},
   "outputs": [],
   "source": [
    "mask_adopted = pets_df['Adopted'] == 1\n",
    "mask_notadopted = pets_df['Adopted'] == 0\n",
    "\n",
    "print(\"Number of 'adopted' (negative examples): {}\".format(mask_adopted.sum()))\n",
    "print(\"Number of 'not adopted' (positive examples): {}\".format(mask_notadopted.sum()))"
   ]
  },
  {
   "cell_type": "code",
   "execution_count": null,
   "id": "0935a2d5-2974-4d68-a124-25b7e5e7f45c",
   "metadata": {},
   "outputs": [],
   "source": [
    "xgb_clf = XGBClassifier(scale_pos_weight=3)\n",
    "\n",
    "# Fit the model again but set early_stopping_rounds\n",
    "xgb_clf.fit(X_train, \n",
    "            y_train,\n",
    "            early_stopping_rounds=optimal_trees,\n",
    "            eval_set=eval_set,\n",
    "            eval_metric='logloss',\n",
    "            verbose=False)"
   ]
  },
  {
   "cell_type": "code",
   "execution_count": null,
   "id": "148dfd9a-5e7c-42fa-848c-554c9f66c646",
   "metadata": {},
   "outputs": [],
   "source": [
    "# Make predictions on the test set (model has not seen this before)\n",
    "y_pred = xgb_clf.predict(X_test)\n",
    "\n",
    "print(\"XGBoost model scores\")\n",
    "print(\"F1: {0:0.4f}\".format(f1_score(y_test, y_pred)))\n",
    "print(\"Accuracy: {0:0.4f}\".format(accuracy_score(y_test, y_pred)))\n",
    "print(\"Recall: {0:0.4f}\".format(recall_score(y_test, y_pred)))"
   ]
  },
  {
   "cell_type": "markdown",
   "id": "ff6af8bb-215c-4371-ba49-6fc0d4e202a4",
   "metadata": {},
   "source": [
    "## Model evaluation metrics\n",
    "\n",
    "### Accuracy\n",
    "* Accuracy = Number of correct predictions / Total number of predictions = (TP + TN) / (TP + TN + FP + FN)\n",
    "\n",
    "### Precision\n",
    "* Precision = TP / (TP + FP)\n",
    "* What proportion of positive identifications were actually correct?\n",
    "\n",
    "\n",
    "### Recall\n",
    "* Recall = TP / (TP + FN)\n",
    "* What proportion of actual positives were identified correctly?\n",
    "\n",
    "### F1 score\n",
    "* F1 score = (2 x Precision x Recall) / (Precision + Recall)\n",
    "* Weighted average of precision and recall\n",
    "\n",
    "## Results\n",
    "\n",
    "|   | Dummy  | XGB  | XGB (early stop)  | XGB (scale_pos_weight)  |\n",
    "|---|---|---|---|---|\n",
    "| F1 Score  | 0.8384  | 0.8262  | 0.8455  | 0.8395  |\n",
    "| Accuracy  | 0.7218  | 0.7318  | 0.7569  | 0.7266  |\n",
    "| Recall  | 1.0000  | 0.8830  | 0.9214  | 0.9904  |"
   ]
  },
  {
   "cell_type": "markdown",
   "id": "538ef590-ae03-4a20-875c-8a615d92f637",
   "metadata": {},
   "source": [
    "Best result:\n",
    "* XGBoost using early stop of 12 trees (with all other hyperparameters set as default)\n",
    "* Highest F1 score and accuracy"
   ]
  },
  {
   "cell_type": "markdown",
   "id": "40f87b32-c6a8-4516-8a52-cc7966f7c024",
   "metadata": {},
   "source": [
    "## Confusion matrix"
   ]
  },
  {
   "cell_type": "code",
   "execution_count": null,
   "id": "5f505950-59bc-447b-b2a3-b9fa070e6c4d",
   "metadata": {},
   "outputs": [],
   "source": [
    "# Reset model to default (no scale_pos_weight)\n",
    "xgb_clf = XGBClassifier()\n",
    "\n",
    "# Fit the model again but set early_stopping_rounds\n",
    "xgb_clf.fit(X_train, \n",
    "            y_train,\n",
    "            early_stopping_rounds=optimal_trees,\n",
    "            eval_set=eval_set,\n",
    "            eval_metric='logloss',\n",
    "            verbose=False)"
   ]
  },
  {
   "cell_type": "code",
   "execution_count": null,
   "id": "e7fffe74-ff38-4ef9-9762-77d966fe2853",
   "metadata": {},
   "outputs": [],
   "source": [
    "# Make predictions on the test set (model has not seen this before)\n",
    "y_pred = xgb_clf.predict(X_test)\n",
    "\n",
    "print(\"XGBoost model scores\")\n",
    "print(\"F1: {0:0.4f}\".format(f1_score(y_test, y_pred)))\n",
    "print(\"Accuracy: {0:0.4f}\".format(accuracy_score(y_test, y_pred)))\n",
    "print(\"Recall: {0:0.4f}\".format(recall_score(y_test, y_pred)))"
   ]
  },
  {
   "cell_type": "code",
   "execution_count": null,
   "id": "c493c3e6-cd68-47a8-8ff1-ecab2de7466e",
   "metadata": {},
   "outputs": [],
   "source": [
    "cm = confusion_matrix(y_test, y_pred, labels=xgb_clf.classes_)\n",
    "disp = ConfusionMatrixDisplay(confusion_matrix=cm, display_labels=xgb_clf.classes_)\n",
    "disp.plot()\n",
    "plt.show()"
   ]
  },
  {
   "cell_type": "markdown",
   "id": "35252d3b-0667-4be7-8a4e-1f0a600e85a6",
   "metadata": {},
   "source": [
    "## Receiver Operating Characteristic (ROC)"
   ]
  },
  {
   "cell_type": "code",
   "execution_count": null,
   "id": "91e813a9-a285-4573-afd0-e21355f77990",
   "metadata": {},
   "outputs": [],
   "source": [
    "fpr, tpr, thresholds = roc_curve(y_test, y_pred)\n",
    "roc_score = roc_auc_score(y_test, y_pred)"
   ]
  },
  {
   "cell_type": "code",
   "execution_count": null,
   "id": "b4a4e58c-c126-4f0e-9e09-cddf79f7b301",
   "metadata": {},
   "outputs": [],
   "source": [
    "plt.subplots(1, figsize=(10,10))\n",
    "plt.title(\"ROC score: {0:0.4f}\".format(roc_score))\n",
    "plt.plot(fpr, tpr)\n",
    "plt.plot([0, 1], ls=\"--\")\n",
    "plt.plot([0, 0], [1, 0] , c=\".7\"), plt.plot([1, 1] , c=\".7\")\n",
    "plt.ylabel('True Positive Rate')\n",
    "plt.xlabel('False Positive Rate')\n",
    "plt.show()"
   ]
  },
  {
   "cell_type": "markdown",
   "id": "883eae61-4b46-4ae9-99a3-d5fedc28599a",
   "metadata": {},
   "source": [
    "## Feature importance\n",
    "\n",
    "* Future investigations could focus on a subset of features, ranked by importance, as input to the training model"
   ]
  },
  {
   "cell_type": "code",
   "execution_count": null,
   "id": "4c6a9caf-b075-4245-92e0-34499ce3454d",
   "metadata": {},
   "outputs": [],
   "source": [
    "plt.rcParams[\"figure.figsize\"] = (20, 16)\n",
    "\n",
    "plot_importance(xgb_clf)\n",
    "plt.show()"
   ]
  },
  {
   "cell_type": "markdown",
   "id": "dd4bb110-56e3-4543-8409-ba476f399f69",
   "metadata": {},
   "source": [
    "## Save model"
   ]
  },
  {
   "cell_type": "code",
   "execution_count": null,
   "id": "f38b7ddb-a875-4510-b98d-c947ca1c0293",
   "metadata": {},
   "outputs": [],
   "source": [
    "# save\n",
    "xgb_clf.save_model(yaml_file['path']['model'] + \"task1_xgboost.json\")"
   ]
  }
 ],
 "metadata": {
  "kernelspec": {
   "display_name": "py37_default",
   "language": "python",
   "name": "py37_default"
  },
  "language_info": {
   "codemirror_mode": {
    "name": "ipython",
    "version": 3
   },
   "file_extension": ".py",
   "mimetype": "text/x-python",
   "name": "python",
   "nbconvert_exporter": "python",
   "pygments_lexer": "ipython3",
   "version": "3.7.10"
  }
 },
 "nbformat": 4,
 "nbformat_minor": 5
}
