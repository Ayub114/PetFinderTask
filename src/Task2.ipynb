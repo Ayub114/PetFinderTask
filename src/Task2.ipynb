{
 "cells": [
  {
   "cell_type": "markdown",
   "id": "c275e504-c132-4098-8dee-14b38003fe5b",
   "metadata": {},
   "source": [
    "# Task 2 - Scoring"
   ]
  },
  {
   "cell_type": "code",
   "execution_count": 1,
   "id": "1b2ef691-8bd6-42c6-99b9-8b3e9fd91149",
   "metadata": {},
   "outputs": [],
   "source": [
    "import pandas as pd\n",
    "import sys\n",
    "\n",
    "# Support functions\n",
    "sys.path.insert(0, \"./utils/\")\n",
    "import support\n",
    "\n",
    "import warnings\n",
    "warnings.simplefilter(\"ignore\")\n",
    "\n",
    "# Configuration\n",
    "import yaml\n",
    "\n",
    "# Machine Learning\n",
    "import xgboost as xgb\n",
    "from xgboost import XGBClassifier"
   ]
  },
  {
   "cell_type": "code",
   "execution_count": 2,
   "id": "a9fa5cbe-a2b2-40ed-ad2c-0a4a46734cce",
   "metadata": {},
   "outputs": [],
   "source": [
    "# Read configuration\n",
    "YAML_PATH = '../conf/'\n",
    "yaml_file = support.yaml_loader(YAML_PATH + 'yaml_file.yml')"
   ]
  },
  {
   "cell_type": "markdown",
   "id": "e9e1d577-8df4-4f14-895c-97bf86890cb0",
   "metadata": {},
   "source": [
    "## Load data"
   ]
  },
  {
   "cell_type": "code",
   "execution_count": 3,
   "id": "3c1d50eb-665f-42b5-91c3-5dbce693f1b0",
   "metadata": {},
   "outputs": [],
   "source": [
    "pets_df = pd.read_csv('gs://cloud-samples-data/ai-platform-unified/datasets/tabular/petfinder-tabular-classification.csv')"
   ]
  },
  {
   "cell_type": "code",
   "execution_count": 4,
   "id": "c4dab871-92a2-4c56-acf8-e02f00869977",
   "metadata": {},
   "outputs": [],
   "source": [
    "# Take a copy of the dataset. To be used as part of the final output\n",
    "out_df = pets_df.copy()"
   ]
  },
  {
   "cell_type": "markdown",
   "id": "19468b46-cd48-451f-8cc4-a7642f9a2414",
   "metadata": {},
   "source": [
    "## One-hot encode categorical features"
   ]
  },
  {
   "cell_type": "code",
   "execution_count": 5,
   "id": "ad384111-6ed6-47c3-bd1d-ba96bbc5f768",
   "metadata": {},
   "outputs": [
    {
     "data": {
      "text/plain": [
       "['Mixed Breed',\n",
       " 'Domestic Short Hair',\n",
       " 'Domestic Medium Hair',\n",
       " 'Tabby',\n",
       " 'Domestic Long Hair',\n",
       " 'Siamese',\n",
       " 'Shih Tzu',\n",
       " 'Persian']"
      ]
     },
     "execution_count": 5,
     "metadata": {},
     "output_type": "execute_result"
    }
   ],
   "source": [
    "unique_categories = support.reduce_cardinality(pets_df, column='Breed1', threshold=0.8)\n",
    "unique_categories"
   ]
  },
  {
   "cell_type": "code",
   "execution_count": 6,
   "id": "64a5049a-168e-4795-8a61-d1359809307b",
   "metadata": {},
   "outputs": [],
   "source": [
    "# Filter all pets that match the unique categories\n",
    "mask = pets_df['Breed1'].isin(unique_categories)\n",
    "\n",
    "# The complement ~ are pets that are NOT in the list of unique categories. We group them together into a single group called \"Other\"\n",
    "pets_df.loc[~mask, 'Breed1'] = 'Other'\n",
    "\n",
    "categorical_list = ['Breed1', 'Color1', 'Color2', 'FurLength', 'Gender', 'Health', 'MaturitySize', 'Sterilized', 'Type', 'Vaccinated']\n",
    "pets_df = support.create_one_hot_dataframe(pets_df, categorical_list)"
   ]
  },
  {
   "cell_type": "markdown",
   "id": "b729818f-36d8-4d06-8d18-78a3726b6905",
   "metadata": {},
   "source": [
    "## Load model and make predictions"
   ]
  },
  {
   "cell_type": "code",
   "execution_count": 16,
   "id": "d91f6a10-9847-43a8-836d-6e067238fa44",
   "metadata": {},
   "outputs": [],
   "source": [
    "# Load model\n",
    "xgb_clf = XGBClassifier()\n",
    "xgb_clf.load_model(yaml_file['path']['model'] + \"task1_xgboost.json\")\n",
    "\n",
    "# Use entire dataset sans \"Adopted\" target variable\n",
    "X = pets_df.drop('Adopted', axis=1)\n",
    "\n",
    "# Unit test. Only allow the prediction if the model and dataset feature columns match exactly\n",
    "model_features = xgb_clf.get_booster().feature_names.sort()\n",
    "dataset_features = X.columns.tolist().sort()\n",
    "\n",
    "if dataset_features == model_features:\n",
    "    # Make predictions on the entire dataset \n",
    "    y_pred = xgb_clf.predict(X)\n",
    "    out_df['Adopted_prediction'] = y_pred\n",
    "    mask_0 = out_df['Adopted_prediction'] == 0\n",
    "    mask_1 = out_df['Adopted_prediction'] == 1\n",
    "\n",
    "    # Update the \"Adopted_prediction\" column by replacing 0 with \"No\" and 1 with \"Yes\"\n",
    "    out_df.loc[mask_0, 'Adopted_prediction'] = \"No\"\n",
    "    out_df.loc[mask_1, 'Adopted_prediction'] = \"Yes\"\n",
    "    \n",
    "    # Save results\n",
    "    out_df.to_csv(yaml_file['path']['output'] + \"results.csv\", index=False)\n",
    "else:\n",
    "    print(\"Dataset doesn't match the model training data.\")"
   ]
  }
 ],
 "metadata": {
  "kernelspec": {
   "display_name": "py37_default",
   "language": "python",
   "name": "py37_default"
  },
  "language_info": {
   "codemirror_mode": {
    "name": "ipython",
    "version": 3
   },
   "file_extension": ".py",
   "mimetype": "text/x-python",
   "name": "python",
   "nbconvert_exporter": "python",
   "pygments_lexer": "ipython3",
   "version": "3.7.10"
  }
 },
 "nbformat": 4,
 "nbformat_minor": 5
}
